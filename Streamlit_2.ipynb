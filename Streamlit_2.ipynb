{
 "cells": [
  {
   "cell_type": "code",
   "execution_count": 6,
   "id": "5ecda76e",
   "metadata": {
    "ExecuteTime": {
     "end_time": "2023-12-16T14:30:05.640977Z",
     "start_time": "2023-12-16T14:30:05.626734Z"
    }
   },
   "outputs": [
    {
     "name": "stdout",
     "output_type": "stream",
     "text": [
      "Overwriting category_prediction_streamlit4.py\n"
     ]
    }
   ],
   "source": [
    "%%writefile category_prediction_streamlit4.py\n",
    "import streamlit as st\n",
    "import tensorflow as tf\n",
    "from PIL import Image\n",
    "import pandas as pd\n",
    "import numpy as np\n",
    "from tensorflow.keras.models import load_model\n",
    "import requests\n",
    "from io import BytesIO\n",
    "\n",
    "  \n",
    "# Streamlit uygulamasının arka plan rengini ayarla\n",
    "st.markdown(\n",
    "    \"\"\"\n",
    "    <style>\n",
    "    .stApp {\n",
    "        background-color: #f4f4f4;  /* Açık gri renk */\n",
    "    </style>\n",
    "    \"\"\",\n",
    "    unsafe_allow_html=True\n",
    ")\n",
    "\n",
    "# Streamlit başlıklarını ve görselleri ekle\n",
    "st.markdown('<p style=\"background-color: #3366cc; color: white; font-size: 30px; padding: 20px; border-radius: 10px; text-align: center; box-shadow: 0px 6px 8px rgba(0, 0, 0, 0.1);\">🏠 E-ticaret(Amazon) Ürün Tanıma 🏠</p>', unsafe_allow_html=True)\n",
    "st.markdown('<p style=\"background-color: #3366cc; color: white; font-size: 20px; padding: 10px; border-radius: 5px; text-align: center; box-shadow: 0px 2px 3px rgba(0, 0, 0, 0.1);\">📌Ürünler📌</p>', unsafe_allow_html=True)\n",
    "st.image(\"resim2.jpeg\", use_column_width=True)\n",
    "# Kullanıcıdan resim yükleme yöntemini seçmesini iste\n",
    "st.sidebar.title(\"Resim Yükleme Yöntemi\")\n",
    "upload_method = st.sidebar.radio(\"Lütfen bir yöntem seçin:\", [\"Bilgisayarınızdan Yükle\", \"İnternet Bağlantısı ile Yükle\"])\n",
    "\n",
    "uploaded_image = None  # Kullanıcının yüklediği resmi saklamak için\n",
    "\n",
    "if upload_method == \"Bilgisayarınızdan Yükle\":\n",
    "    uploaded_image = st.file_uploader(\"Lütfen bir ürün resmi yükleyin:\", type=[\"jpg\", \"png\", \"jpeg\"])\n",
    "elif upload_method == \"İnternet Bağlantısı ile Yükle\":\n",
    "    st.write(\"Lütfen bir ürün resmi internet linkini girin:\")\n",
    "    image_url = st.text_input(\"Resim Linki\")\n",
    "\n",
    "    \n",
    "# Model seçimi\n",
    "st.sidebar.title(\"Model Seçimi\")\n",
    "selected_model = st.sidebar.radio(\"Lütfen bir model seçin:\", [\"InceptionV3\", \"MobilNet\",  \"VGG16\"])           \n",
    "        \n",
    "# Resmi yükle ve tahmin et butonları\n",
    "if uploaded_image is not None or (upload_method == \"İnternet Bağlantısı ile Yükle\" and image_url):\n",
    "    st.markdown('<p style=\"background-color: #3366cc; color: white; font-size: 20px; padding: 10px; border-radius: 5px; text-align: center; box-shadow: 0px 2px 3px rgba(0, 0, 0, 0.1);\">📸 Seçtiğiniz Resim 📸</p>', unsafe_allow_html=True)\n",
    "    if uploaded_image is not None:\n",
    "        st.image(uploaded_image, caption='', use_column_width=True)\n",
    "    elif upload_method == \"İnternet Bağlantısı ile Yükle\" and image_url:\n",
    "        try:\n",
    "            response = requests.get(image_url)\n",
    "            image = Image.open(BytesIO(response.content))\n",
    "            st.image(image, caption='', use_column_width=True)\n",
    "        except Exception as e:\n",
    "            st.error(\"Resim yüklenirken bir hata oluştu. Lütfen geçerli bir internet linki girin.\")\n",
    "\n",
    "\n",
    "# Model bilgisi düğmesi\n",
    "if st.sidebar.button(\"Model Hakkında Bilgi\"):\n",
    "    st.markdown(f'<p style=\"background-color: #3366cc; color: white; font-size: 20px; padding: 10px; border-radius: 5px; text-align: center; box-shadow: 0px 2px 3px rgba(0, 0, 0, 0.1);\">📜 {selected_model} Modeli Hakkında 📜</p>', unsafe_allow_html=True)\n",
    "    if selected_model == \"InceptionV3\":\n",
    "        st.write(\"InceptionV3, yüksek doğruluklu görsel sınıflandırma için Google tarafından geliştirilen gelişmiş bir modeldir. Çok boyutlu özellikleri öğrenmek için çok yollu evrişim blokları kullanır.\")\n",
    "    elif selected_model == \"MobilNet\":\n",
    "        st.write(\"MobileNet, mobil cihazlar için optimize edilmiş, hafif ve verimli bir modeldir. Az sayıda parametre ile hızlı işlem yapabilme özelliğine sahiptir.\")\n",
    "    elif selected_model == \"VGG16\":  # EfficientNetV2S için bilgi\n",
    "        st.write(\"VGG16, derinlik ve sadelik açısından dengeli bir yapı sunan popüler bir görsel sınıflandırma modelidir. 16 katmanlı bu ağ yapısı, geniş kapsamlı görüntü tanıma görevlerinde geniş çapta kullanılır ve kolayca özelleştirilebilir.\")\n",
    "# Tahmin yap butonu \n",
    "if st.button(\"Tahmin Et\"):\n",
    "    if upload_method == \"Bilgisayarınızdan Yükle\" and uploaded_image is not None:\n",
    "        image = Image.open(uploaded_image)\n",
    "    elif upload_method == \"İnternet Bağlantısı ile Yükle\" and image_url:\n",
    "        try:\n",
    "            response = requests.get(image_url)\n",
    "            image = Image.open(BytesIO(response.content))\n",
    "        except Exception as e:\n",
    "            st.error(\"Resim yüklenirken bir hata oluştu. Lütfen geçerli bir internet linki girin.\")\n",
    "            \n",
    "            \n",
    "    # Kullanıcının seçtiği modele göre modeli yükle\n",
    "    if selected_model == \"InceptionV3\":\n",
    "        model_path = 'InceptionV3.h5'\n",
    "    elif selected_model == \"MobilNet\":\n",
    "        model_path = 'MobilNet.h5'\n",
    "    elif selected_model == \"VGG16\":\n",
    "        model_path = 'VGG16.h5' \n",
    "\n",
    "\n",
    "    # Seçilen modeli yükle\n",
    "    model = tf.keras.models.load_model(model_path, compile=False, custom_objects={'tf': tf}, safe_mode=False)\n",
    "\n",
    "    # Resmi model için hazırla ve tahmin yap\n",
    "    if 'image' in locals():\n",
    "        image = image.resize((224, 224))\n",
    "        image = tf.keras.preprocessing.image.img_to_array(image)\n",
    "        #image = image / 255.0\n",
    "        image = np.expand_dims(image, axis=0)\n",
    "\n",
    "        # Tahmin yap\n",
    "        prediction = model.predict(image)\n",
    "\n",
    "        # Tahmin sonuçlarını göster\n",
    "        class_names = [\"Area Rugs\", \"Coffee Cups & Mugs\", \"Paints\", \"Yarn\"]  # Modelin tahmin sınıfları\n",
    "        predicted_class = class_names[np.argmax(prediction)]\n",
    "        confidence = np.max(prediction)\n",
    "        \n",
    "        st.markdown(f'<p style=\"background-color: #3366cc; color: white; font-size: 20px; padding: 10px; border-radius: 5px; text-align: center; box-shadow: 0px 2px 3px rgba(0, 0, 0, 0.1);\">📸Model Tahmini📸</p>', unsafe_allow_html=True)\n",
    "\n",
    "        st.write(f\"Tahmin Sonucu: {predicted_class}\")\n",
    "        st.write(f\"Tahmin Güveni: {confidence:.2f}\")\n",
    "        \n",
    "        st.markdown('<p style=\"background-color: #3366cc; color: white; font-size: 20px; padding: 10px; border-radius: 5px; text-align: center; box-shadow: 0px 2px 3px rgba(0, 0, 0, 0.1);\">📊 Tahmin Olasılıkları 📊</p>', unsafe_allow_html=True)\n",
    "        # Tahmin olasılıklarını bir grafikte göster\n",
    "        prediction_df = pd.DataFrame({'Kategoriler': class_names, 'Olasılıklar': prediction[0]})\n",
    "        st.bar_chart(prediction_df.set_index('Kategoriler'))"
   ]
  },
  {
   "cell_type": "code",
   "execution_count": null,
   "id": "0b8d0793",
   "metadata": {
    "ExecuteTime": {
     "start_time": "2023-12-16T14:30:07.058Z"
    }
   },
   "outputs": [],
   "source": [
    "!streamlit run category_prediction_streamlit4.py"
   ]
  },
  {
   "cell_type": "code",
   "execution_count": 3,
   "id": "87ff1531",
   "metadata": {
    "ExecuteTime": {
     "end_time": "2023-12-16T13:52:21.512032Z",
     "start_time": "2023-12-16T13:52:15.692058Z"
    }
   },
   "outputs": [
    {
     "name": "stderr",
     "output_type": "stream",
     "text": [
      "C:\\Users\\filiz\\anaconda3\\lib\\site-packages\\numpy\\_distributor_init.py:30: UserWarning: loaded more than 1 DLL from .libs:\n",
      "C:\\Users\\filiz\\anaconda3\\lib\\site-packages\\numpy\\.libs\\libopenblas.GK7GX5KEQ4F6UYO3P26ULGBQYHGQO7J4.gfortran-win_amd64.dll\n",
      "C:\\Users\\filiz\\anaconda3\\lib\\site-packages\\numpy\\.libs\\libopenblas64__v0.3.21-gcc_10_3_0.dll\n",
      "  warnings.warn(\"loaded more than 1 DLL from .libs:\"\n"
     ]
    },
    {
     "name": "stdout",
     "output_type": "stream",
     "text": [
      "Streamlit version: 1.26.0\n",
      "TensorFlow version: 2.13.0\n",
      "PIL version: 9.2.0\n",
      "Pandas version: 1.4.3\n",
      "NumPy version: 1.24.3\n"
     ]
    }
   ],
   "source": [
    "import streamlit as st\n",
    "import tensorflow as tf\n",
    "from PIL import Image\n",
    "import pandas as pd\n",
    "import numpy as np\n",
    "\n",
    "print(\"Streamlit version:\", st.__version__)\n",
    "print(\"TensorFlow version:\", tf.__version__)\n",
    "print(\"PIL version:\", Image.__version__)\n",
    "print(\"Pandas version:\", pd.__version__)\n",
    "print(\"NumPy version:\", np.__version__)\n"
   ]
  },
  {
   "cell_type": "code",
   "execution_count": 5,
   "id": "4b408604",
   "metadata": {
    "ExecuteTime": {
     "end_time": "2023-12-16T14:07:56.583540Z",
     "start_time": "2023-12-16T14:07:56.575610Z"
    }
   },
   "outputs": [
    {
     "name": "stdout",
     "output_type": "stream",
     "text": [
      "keras version: 2.13.1\n"
     ]
    }
   ],
   "source": [
    "import keras\n",
    "print(\"keras version:\", keras.__version__)"
   ]
  },
  {
   "cell_type": "code",
   "execution_count": null,
   "id": "ba41eabe",
   "metadata": {},
   "outputs": [],
   "source": []
  }
 ],
 "metadata": {
  "hide_input": false,
  "kernelspec": {
   "display_name": "Python 3 (ipykernel)",
   "language": "python",
   "name": "python3"
  },
  "language_info": {
   "codemirror_mode": {
    "name": "ipython",
    "version": 3
   },
   "file_extension": ".py",
   "mimetype": "text/x-python",
   "name": "python",
   "nbconvert_exporter": "python",
   "pygments_lexer": "ipython3",
   "version": "3.9.13"
  },
  "nbTranslate": {
   "displayLangs": [
    "*"
   ],
   "hotkey": "alt-t",
   "langInMainMenu": true,
   "sourceLang": "en",
   "targetLang": "fr",
   "useGoogleTranslate": true
  },
  "toc": {
   "base_numbering": 1,
   "nav_menu": {},
   "number_sections": true,
   "sideBar": true,
   "skip_h1_title": false,
   "title_cell": "Table of Contents",
   "title_sidebar": "Contents",
   "toc_cell": false,
   "toc_position": {},
   "toc_section_display": true,
   "toc_window_display": false
  },
  "varInspector": {
   "cols": {
    "lenName": 16,
    "lenType": 16,
    "lenVar": 40
   },
   "kernels_config": {
    "python": {
     "delete_cmd_postfix": "",
     "delete_cmd_prefix": "del ",
     "library": "var_list.py",
     "varRefreshCmd": "print(var_dic_list())"
    },
    "r": {
     "delete_cmd_postfix": ") ",
     "delete_cmd_prefix": "rm(",
     "library": "var_list.r",
     "varRefreshCmd": "cat(var_dic_list()) "
    }
   },
   "types_to_exclude": [
    "module",
    "function",
    "builtin_function_or_method",
    "instance",
    "_Feature"
   ],
   "window_display": false
  }
 },
 "nbformat": 4,
 "nbformat_minor": 5
}
